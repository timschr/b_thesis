{
 "cells": [
  {
   "cell_type": "code",
   "execution_count": 184,
   "metadata": {},
   "outputs": [],
   "source": [
    "import numpy as np\n",
    "import matplotlib.pyplot as plt\n",
    "from matplotlib.backends.backend_agg import FigureCanvasAgg as FigureCanvas\n",
    "from matplotlib.patches import Rectangle #changed\n",
    "import cv2  \n",
    "import imageio\n",
    "import pandas as pd\n",
    "import seaborn as sns\n",
    "import glob\n",
    "import scipy.io\n",
    "import os\n",
    "from collections import Counter\n",
    "from scipy.io.arff import loadarff \n",
    "from skimage.segmentation import mark_boundaries, slic"
   ]
  },
  {
   "cell_type": "code",
   "execution_count": 185,
   "metadata": {},
   "outputs": [],
   "source": [
    "import ntpath\n",
    "def path_leaf(path): # Get file name from path\n",
    "    head, tail = ntpath.split(path)\n",
    "    return tail or ntpath.basename(head)"
   ]
  },
  {
   "cell_type": "code",
   "execution_count": 205,
   "metadata": {},
   "outputs": [],
   "source": [
    "GAZE_FOLDER_DIR = '/Users/timschroder/Documents/Uni/Bachelorarbeit/project_data/LUEBECK_GAZE/GazeCom_ground_truth/'\n",
    "gaze_folder_list = [video for video in glob.glob(GAZE_DIR + '/*')]\n",
    "gaze_folder_list.sort()\n",
    "\n",
    "\n",
    "VIDEO_DIR = '/Users/timschroder/Documents/Uni/Bachelorarbeit/project_data/LUEBECK/'\n",
    "video_path_list = [video for video in glob.glob(VIDEO_DIR + '/*')]\n",
    "video_path_list.sort()\n",
    "\n",
    "DETECT_VID_DIR = '/Users/timschroder/Documents/Uni/Bachelorarbeit/project_results/LUEBECK/detect_video/'\n",
    "detect_path_list = [video for video in glob.glob(DETECT_VID_DIR + '/*_0.AVI')]\n",
    "detect_path_list.sort()"
   ]
  },
  {
   "cell_type": "markdown",
   "metadata": {},
   "source": [
    "## Load Data"
   ]
  },
  {
   "cell_type": "code",
   "execution_count": 210,
   "metadata": {},
   "outputs": [],
   "source": [
    "def load_df(gaze_path):\n",
    "    \n",
    "    \n",
    "    from scipy.io.arff import loadarff\n",
    "    arff = loadarff(gaze_path)\n",
    "    df = pd.DataFrame.from_dict(arff[0])\n",
    "    video_res_x = 1280\n",
    "    video_res_y = 720\n",
    "    df['time']-=df['time'][0]\n",
    "    df['x'] = np.round(df['x'])\n",
    "    df['y'] = np.round(df['y'])\n",
    "    df = df[df['y'] >= 0]\n",
    "    df = df[df['y'] < video_res_y]\n",
    "    df = df[df['x'] >= 0]\n",
    "    df = df[df['x'] < video_res_x]\n",
    "    return df\n",
    "\n",
    "\n",
    "\n"
   ]
  },
  {
   "cell_type": "code",
   "execution_count": 212,
   "metadata": {},
   "outputs": [
    {
     "data": {
      "text/html": [
       "<div>\n",
       "<style scoped>\n",
       "    .dataframe tbody tr th:only-of-type {\n",
       "        vertical-align: middle;\n",
       "    }\n",
       "\n",
       "    .dataframe tbody tr th {\n",
       "        vertical-align: top;\n",
       "    }\n",
       "\n",
       "    .dataframe thead th {\n",
       "        text-align: right;\n",
       "    }\n",
       "</style>\n",
       "<table border=\"1\" class=\"dataframe\">\n",
       "  <thead>\n",
       "    <tr style=\"text-align: right;\">\n",
       "      <th></th>\n",
       "      <th>time</th>\n",
       "      <th>x</th>\n",
       "      <th>y</th>\n",
       "      <th>confidence</th>\n",
       "      <th>handlabeller1</th>\n",
       "      <th>handlabeller2</th>\n",
       "      <th>handlabeller_final</th>\n",
       "    </tr>\n",
       "  </thead>\n",
       "  <tbody>\n",
       "    <tr>\n",
       "      <th>0</th>\n",
       "      <td>0.0</td>\n",
       "      <td>501.0</td>\n",
       "      <td>46.0</td>\n",
       "      <td>1.0</td>\n",
       "      <td>2.0</td>\n",
       "      <td>2.0</td>\n",
       "      <td>2.0</td>\n",
       "    </tr>\n",
       "    <tr>\n",
       "      <th>1</th>\n",
       "      <td>4000.0</td>\n",
       "      <td>501.0</td>\n",
       "      <td>46.0</td>\n",
       "      <td>1.0</td>\n",
       "      <td>2.0</td>\n",
       "      <td>2.0</td>\n",
       "      <td>2.0</td>\n",
       "    </tr>\n",
       "    <tr>\n",
       "      <th>2</th>\n",
       "      <td>8000.0</td>\n",
       "      <td>502.0</td>\n",
       "      <td>47.0</td>\n",
       "      <td>1.0</td>\n",
       "      <td>2.0</td>\n",
       "      <td>2.0</td>\n",
       "      <td>2.0</td>\n",
       "    </tr>\n",
       "    <tr>\n",
       "      <th>3</th>\n",
       "      <td>12000.0</td>\n",
       "      <td>510.0</td>\n",
       "      <td>53.0</td>\n",
       "      <td>1.0</td>\n",
       "      <td>2.0</td>\n",
       "      <td>2.0</td>\n",
       "      <td>2.0</td>\n",
       "    </tr>\n",
       "    <tr>\n",
       "      <th>4</th>\n",
       "      <td>16000.0</td>\n",
       "      <td>521.0</td>\n",
       "      <td>60.0</td>\n",
       "      <td>1.0</td>\n",
       "      <td>2.0</td>\n",
       "      <td>2.0</td>\n",
       "      <td>2.0</td>\n",
       "    </tr>\n",
       "    <tr>\n",
       "      <th>...</th>\n",
       "      <td>...</td>\n",
       "      <td>...</td>\n",
       "      <td>...</td>\n",
       "      <td>...</td>\n",
       "      <td>...</td>\n",
       "      <td>...</td>\n",
       "      <td>...</td>\n",
       "    </tr>\n",
       "    <tr>\n",
       "      <th>5027</th>\n",
       "      <td>20228000.0</td>\n",
       "      <td>1065.0</td>\n",
       "      <td>380.0</td>\n",
       "      <td>1.0</td>\n",
       "      <td>1.0</td>\n",
       "      <td>1.0</td>\n",
       "      <td>1.0</td>\n",
       "    </tr>\n",
       "    <tr>\n",
       "      <th>5028</th>\n",
       "      <td>20232000.0</td>\n",
       "      <td>1065.0</td>\n",
       "      <td>381.0</td>\n",
       "      <td>1.0</td>\n",
       "      <td>1.0</td>\n",
       "      <td>1.0</td>\n",
       "      <td>1.0</td>\n",
       "    </tr>\n",
       "    <tr>\n",
       "      <th>5029</th>\n",
       "      <td>20236000.0</td>\n",
       "      <td>1065.0</td>\n",
       "      <td>380.0</td>\n",
       "      <td>1.0</td>\n",
       "      <td>1.0</td>\n",
       "      <td>1.0</td>\n",
       "      <td>1.0</td>\n",
       "    </tr>\n",
       "    <tr>\n",
       "      <th>5030</th>\n",
       "      <td>20240000.0</td>\n",
       "      <td>1065.0</td>\n",
       "      <td>380.0</td>\n",
       "      <td>1.0</td>\n",
       "      <td>1.0</td>\n",
       "      <td>1.0</td>\n",
       "      <td>1.0</td>\n",
       "    </tr>\n",
       "    <tr>\n",
       "      <th>5031</th>\n",
       "      <td>20244000.0</td>\n",
       "      <td>1065.0</td>\n",
       "      <td>380.0</td>\n",
       "      <td>1.0</td>\n",
       "      <td>1.0</td>\n",
       "      <td>1.0</td>\n",
       "      <td>1.0</td>\n",
       "    </tr>\n",
       "  </tbody>\n",
       "</table>\n",
       "<p>5032 rows × 7 columns</p>\n",
       "</div>"
      ],
      "text/plain": [
       "            time       x      y  confidence  handlabeller1  handlabeller2  \\\n",
       "0            0.0   501.0   46.0         1.0            2.0            2.0   \n",
       "1         4000.0   501.0   46.0         1.0            2.0            2.0   \n",
       "2         8000.0   502.0   47.0         1.0            2.0            2.0   \n",
       "3        12000.0   510.0   53.0         1.0            2.0            2.0   \n",
       "4        16000.0   521.0   60.0         1.0            2.0            2.0   \n",
       "...          ...     ...    ...         ...            ...            ...   \n",
       "5027  20228000.0  1065.0  380.0         1.0            1.0            1.0   \n",
       "5028  20232000.0  1065.0  381.0         1.0            1.0            1.0   \n",
       "5029  20236000.0  1065.0  380.0         1.0            1.0            1.0   \n",
       "5030  20240000.0  1065.0  380.0         1.0            1.0            1.0   \n",
       "5031  20244000.0  1065.0  380.0         1.0            1.0            1.0   \n",
       "\n",
       "      handlabeller_final  \n",
       "0                    2.0  \n",
       "1                    2.0  \n",
       "2                    2.0  \n",
       "3                    2.0  \n",
       "4                    2.0  \n",
       "...                  ...  \n",
       "5027                 1.0  \n",
       "5028                 1.0  \n",
       "5029                 1.0  \n",
       "5030                 1.0  \n",
       "5031                 1.0  \n",
       "\n",
       "[5032 rows x 7 columns]"
      ]
     },
     "execution_count": 212,
     "metadata": {},
     "output_type": "execute_result"
    }
   ],
   "source": [
    "df"
   ]
  },
  {
   "cell_type": "code",
   "execution_count": 221,
   "metadata": {},
   "outputs": [
    {
     "name": "stdout",
     "output_type": "stream",
     "text": [
      "/Users/timschroder/Documents/Uni/Bachelorarbeit/project_results/LUEBECK/gaze_video/AAW_breite_strasse_100.AVI\n"
     ]
    },
    {
     "name": "stderr",
     "output_type": "stream",
     "text": [
      "/Users/timschroder/env/lib/python3.7/site-packages/ipykernel_launcher.py:60: MatplotlibDeprecationWarning: Passing the minor parameter of set_xticks() positionally is deprecated since Matplotlib 3.2; the parameter will become keyword-only two minor releases later.\n"
     ]
    },
    {
     "name": "stdout",
     "output_type": "stream",
     "text": [
      "done!\n"
     ]
    }
   ],
   "source": [
    "#EVENTPATH = '/Users/timschroder/Documents/Uni/Bachelorarbeit/project_data/eye_tracking_data_tim/events_vid1-50_600-650/'\n",
    "#translate_dict = {'NOISE':0, 'FIX':1, 'SP':2, 'SACCADE':3}\n",
    "GAZEVID_DIR = '/Users/timschroder/Documents/Uni/Bachelorarbeit/project_results/LUEBECK/gaze_video/'\n",
    "translate_dict = {'UNKNOWN':0, 'FIX':1, 'SACCADE':2, 'SP':3, 'NOISE':4}\n",
    "\n",
    "fps=30\n",
    "fourcc = cv2.VideoWriter_fourcc(*'DIVX')\n",
    "\n",
    "videos_run = [1]\n",
    "subjects_run = [1] \n",
    "\n",
    "markersize = 50\n",
    "maxframes = 100\n",
    "\n",
    "for v in videos_run:#len(video_path_list):\n",
    "    videoloc = detect_path_list[v] #video_path_list[v]\n",
    "    vid = imageio.get_reader(videoloc,  'ffmpeg')\n",
    "    vidlist = []\n",
    "    \n",
    "    gaze_dir = gaze_folder_list[v]\n",
    "    gaze_path_list = [video for video in glob.glob(gaze_dir + '/*')]\n",
    "    gaze_path_list.sort()\n",
    "    \n",
    "    for image in vid.iter_data():\n",
    "        vidlist.append(np.array(image))\n",
    "        \n",
    "    for s in subjects_run:\n",
    "        nframes = len(vidlist)\n",
    "        gaze_path = gaze_path_list[s]\n",
    "        video_name = os.path.splitext(path_leaf(gaze_path_list[s]))[0]\n",
    "        df = load_df(gaze_path)\n",
    "        \n",
    "        vid_path = (GAZEVID_DIR + video_name + '_' + str(maxframes) + '.AVI')\n",
    "        print(vid_path)\n",
    "        # 10 fps, output format due to additional plot, usually (640,360)\n",
    "        video = cv2.VideoWriter(vid_path, fourcc, 10, (1200,800))\n",
    "       \n",
    "        # go to either the full video or only through a certain number of frames\n",
    "        for f in range(min(maxframes,len(vidlist))):\n",
    "            dtemp = df[(df['time'] > 1e6*f/fps) & (df['time'] < 1e6*(f+1)/fps)] # assign data to frames\n",
    "            fig, axs = plt.subplots(2, gridspec_kw={'height_ratios': [5, 1], 'wspace':0, 'hspace':0.05}, dpi=200)\n",
    "            fig.suptitle(f'Video {v:03}, Subject {s:02}, Frame {f+1:04}')\n",
    "            image = vidlist[f]\n",
    "            axs[0].imshow(image)\n",
    "            # filter the df for different events to plot them in different colors\n",
    "            dfix = dtemp[dtemp['handlabeller_final']==1]\n",
    "            dfix.plot.scatter(x='x', y='y', c='red', ax=axs[0], s=markersize, alpha=.3, marker='o')\n",
    "            dsp = dtemp[dtemp['handlabeller_final']==3]\n",
    "            dsp.plot.scatter(x='x', y='y', c='DarkBlue', ax=axs[0], s=markersize, alpha=.3, marker='o')\n",
    "            dsac = dtemp[dtemp['handlabeller_final']==2]\n",
    "            dsac.plot.scatter(x='x', y='y', c='DarkGreen', ax=axs[0], s=markersize, alpha=.8, marker='x')\n",
    "            dnoise = dtemp[dtemp['handlabeller_final']==4]\n",
    "            dnoise.plot.scatter(x='x', y='y', c='white', ax=axs[0], s=markersize, alpha=.8, marker='x')\n",
    "            axs[0].axis('off')\n",
    "            # plot where in the event-timeline we currently are\n",
    "            #axs[1].plot(event_num)\n",
    "            axs[1].plot(df['handlabeller_final'])\n",
    "            axs[1].set_yticks([0,1,2,3,4]); axs[1].set_yticklabels(translate_dict.keys())\n",
    "            axs[1].axvline(250/fps*f, color='red')\n",
    "            axs[1].set_xticks([], [])\n",
    "            \n",
    "            canvas = FigureCanvas(fig)\n",
    "            canvas.draw()\n",
    "            width, height = fig.get_size_inches() * fig.get_dpi()\n",
    "            temp = np.frombuffer(canvas.tostring_rgb(), dtype='uint8').reshape(int(height), int(width), 3)  \n",
    "            temp = cv2.cvtColor(temp,cv2.COLOR_RGB2BGR)\n",
    "\n",
    "            video.write(temp)\n",
    "            plt.close('all'); del temp\n",
    "        video.release(); del video\n",
    "        print('done!')"
   ]
  },
  {
   "cell_type": "code",
   "execution_count": 156,
   "metadata": {},
   "outputs": [
    {
     "data": {
      "text/plain": [
       "'AAF_breite_strasse'"
      ]
     },
     "execution_count": 156,
     "metadata": {},
     "output_type": "execute_result"
    }
   ],
   "source": [
    "os.path.splitext(path_leaf(gaze_path_list[v]))[0]"
   ]
  },
  {
   "cell_type": "code",
   "execution_count": 158,
   "metadata": {},
   "outputs": [
    {
     "data": {
      "text/plain": [
       "'/Users/timschroder/Documents/Uni/Bachelorarbeit/project_results/LUEBECK/gaze_video/'"
      ]
     },
     "execution_count": 158,
     "metadata": {},
     "output_type": "execute_result"
    }
   ],
   "source": [
    "GAZEVID_DIR"
   ]
  }
 ],
 "metadata": {
  "kernelspec": {
   "display_name": "Python 3",
   "language": "python",
   "name": "python3"
  },
  "language_info": {
   "codemirror_mode": {
    "name": "ipython",
    "version": 3
   },
   "file_extension": ".py",
   "mimetype": "text/x-python",
   "name": "python",
   "nbconvert_exporter": "python",
   "pygments_lexer": "ipython3",
   "version": "3.7.7"
  }
 },
 "nbformat": 4,
 "nbformat_minor": 4
}
